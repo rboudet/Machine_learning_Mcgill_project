{
 "cells": [
  {
   "cell_type": "code",
   "execution_count": 43,
   "metadata": {},
   "outputs": [],
   "source": [
    "import pandas as pd \n",
    "import numpy as np\n",
    "import math\n",
    "from sklearn import feature_extraction\n",
    "from sklearn import svm\n",
    "from sklearn import metrics\n",
    "from sklearn.naive_bayes import GaussianNB\n",
    "from sklearn.naive_bayes import MultinomialNB\n",
    "from sklearn.naive_bayes import BernoulliNB\n",
    "from sklearn.svm import LinearSVC\n",
    "from sklearn.model_selection import GridSearchCV\n",
    "from sklearn.feature_extraction.text import TfidfVectorizer\n",
    "import matplotlib.pyplot as plt"
   ]
  },
  {
   "cell_type": "code",
   "execution_count": 2,
   "metadata": {},
   "outputs": [],
   "source": [
    "\"\"\"\n",
    "Multiclass Naive Bayes SVM (NB-SVM)\n",
    "https://github.com/lrei/nbsvm\n",
    "Luis Rei <luis.rei@ijs.si> \n",
    "@lmrei\n",
    "http://luisrei.com\n",
    "Learns a multiclass (OneVsRest) classifier based on word ngrams.\n",
    "Uses scikit learn. Reads input from TSV files.\n",
    "Licensed under a Creative Commons Attribution-NonCommercial 4.0 \n",
    "International License.\n",
    "Based on a work at https://github.com/mesnilgr/nbsvm:\n",
    "Naive Bayes SVM by Grégoire Mesnil\n",
    "\"\"\"\n",
    "\n",
    "import sys\n",
    "import os\n",
    "import pandas as pd\n",
    "import argparse\n",
    "from sklearn.pipeline import Pipeline\n",
    "from scipy.sparse import csr_matrix\n",
    "from sklearn.feature_extraction.text import CountVectorizer\n",
    "from sklearn.metrics import accuracy_score\n",
    "\n",
    "import six\n",
    "from abc import ABCMeta\n",
    "import numpy as np\n",
    "from scipy import sparse\n",
    "from scipy.sparse import issparse\n",
    "from sklearn.base import BaseEstimator, ClassifierMixin\n",
    "from sklearn.utils import check_X_y, check_array\n",
    "from sklearn.utils.extmath import safe_sparse_dot\n",
    "from sklearn.preprocessing import normalize, binarize, LabelBinarizer\n",
    "from sklearn.svm import LinearSVC\n",
    "\n",
    "\n",
    "class NBSVM(six.with_metaclass(ABCMeta, BaseEstimator, ClassifierMixin)):\n",
    "\n",
    "    def __init__(self, alpha=1.0, C=1.0, max_iter=10000):\n",
    "        self.alpha = alpha\n",
    "        self.max_iter = max_iter\n",
    "        self.C = C\n",
    "        self.svm_ = [] # fuggly\n",
    "\n",
    "    def fit(self, X, y):\n",
    "        X, y = check_X_y(X, y, 'csr')\n",
    "        _, n_features = X.shape\n",
    "\n",
    "        labelbin = LabelBinarizer()\n",
    "        Y = labelbin.fit_transform(y)\n",
    "        self.classes_ = labelbin.classes_\n",
    "        if Y.shape[1] == 1:\n",
    "            Y = np.concatenate((1 - Y, Y), axis=1)\n",
    "\n",
    "        # LabelBinarizer().fit_transform() returns arrays with dtype=np.int64.\n",
    "        # so we don't have to cast X to floating point\n",
    "        Y = Y.astype(np.float64)\n",
    "\n",
    "        # Count raw events from data\n",
    "        n_effective_classes = Y.shape[1]\n",
    "        self.class_count_ = np.zeros(n_effective_classes, dtype=np.float64)\n",
    "        self.ratios_ = np.full((n_effective_classes, n_features), self.alpha,\n",
    "                                 dtype=np.float64)\n",
    "        self._compute_ratios(X, Y)\n",
    "\n",
    "        # flugglyness\n",
    "        for i in range(n_effective_classes):\n",
    "            X_i = X.multiply(self.ratios_[i])\n",
    "            svm = LinearSVC(C=self.C, max_iter=self.max_iter)\n",
    "            Y_i = Y[:,i]\n",
    "            svm.fit(X_i, Y_i)\n",
    "            self.svm_.append(svm) \n",
    "\n",
    "        return self\n",
    "\n",
    "    def predict(self, X):\n",
    "        n_effective_classes = self.class_count_.shape[0]\n",
    "        n_examples = X.shape[0]\n",
    "\n",
    "        D = np.zeros((n_effective_classes, n_examples))\n",
    "\n",
    "        for i in range(n_effective_classes):\n",
    "            X_i = X.multiply(self.ratios_[i])\n",
    "            D[i] = self.svm_[i].decision_function(X_i)\n",
    "        \n",
    "        return self.classes_[np.argmax(D, axis=0)]\n",
    "        \n",
    "    def _compute_ratios(self, X, Y):\n",
    "        \"\"\"Count feature occurrences and compute ratios.\"\"\"\n",
    "        if np.any((X.data if issparse(X) else X) < 0):\n",
    "            raise ValueError(\"Input X must be non-negative\")\n",
    "\n",
    "        self.ratios_ += safe_sparse_dot(Y.T, X)  # ratio + feature_occurrance_c\n",
    "        normalize(self.ratios_, norm='l1', axis=1, copy=False)\n",
    "        row_calc = lambda r: np.log(np.divide(r, (1 - r)))\n",
    "        self.ratios_ = np.apply_along_axis(row_calc, axis=1, arr=self.ratios_)\n",
    "        check_array(self.ratios_)\n",
    "        self.ratios_ = sparse.csr_matrix(self.ratios_)\n",
    "\n",
    "        #p_c /= np.linalg.norm(p_c, ord=1)\n",
    "        #ratios[c] = np.log(p_c / (1 - p_c))\n",
    "\n",
    "\n",
    "def f1_class(pred, truth, class_val):\n",
    "    n = len(truth)\n",
    "\n",
    "    truth_class = 0\n",
    "    pred_class = 0\n",
    "    tp = 0\n",
    "\n",
    "    for ii in range(0, n):\n",
    "        if truth[ii] == class_val:\n",
    "            truth_class += 1\n",
    "            if truth[ii] == pred[ii]:\n",
    "                tp += 1\n",
    "                pred_class += 1\n",
    "                continue;\n",
    "        if pred[ii] == class_val:\n",
    "            pred_class += 1\n",
    "\n",
    "    precision = tp / float(pred_class)\n",
    "    recall = tp / float(truth_class)\n",
    "\n",
    "    return (2.0 * precision * recall) / (precision + recall)\n",
    "\n",
    "\n",
    "def semeval_senti_f1(pred, truth, pos=2, neg=0): \n",
    "\n",
    "    f1_pos = f1_class(pred, truth, pos)\n",
    "    f1_neg = f1_class(pred, truth, neg)\n",
    "\n",
    "    return (f1_pos + f1_neg) / 2.0;\n"
   ]
  },
  {
   "cell_type": "code",
   "execution_count": 3,
   "metadata": {},
   "outputs": [],
   "source": [
    "from nltk.tokenize import RegexpTokenizer\n",
    "tokenizer = RegexpTokenizer(r'\\w+')\n",
    "from nltk.stem import WordNetLemmatizer\n",
    "lemmer=WordNetLemmatizer()\n",
    "\n",
    "def load_file(filename):\n",
    "    file = open(filename, 'r', encoding='UTF-8', newline='')\n",
    "    X = []\n",
    "    y = []\n",
    "    for line in file:\n",
    "        split = line.split('\\t')\n",
    "        label = split[1]\n",
    "        review = tokenizer.tokenize(split[0])\n",
    "        review = [x.lower() for x in review]\n",
    "        review = [lemmer.lemmatize(x) for x in review]\n",
    "        review = \" \".join(review)\n",
    "        X.append(review)\n",
    "        y.append(label)\n",
    "    return X,y"
   ]
  },
  {
   "cell_type": "code",
   "execution_count": 63,
   "metadata": {},
   "outputs": [],
   "source": [
    "X_train, y_train = load_file(\"IMDB-train.txt\")\n",
    "X_dev, y_dev = load_file(\"IMDB-valid.txt\")\n",
    "X_test, y_test = load_file(\"IMDB-test.txt\")"
   ]
  },
  {
   "cell_type": "code",
   "execution_count": 64,
   "metadata": {},
   "outputs": [],
   "source": [
    "y_final_train = np.array(y_train + y_dev)\n",
    "X_final_train = np.array([row for row in X_train] + [row for row in X_dev])"
   ]
  },
  {
   "cell_type": "code",
   "execution_count": 65,
   "metadata": {},
   "outputs": [],
   "source": [
    "vectorizer = feature_extraction.text.TfidfVectorizer(ngram_range = (1,1), binary = True)\n",
    "vectorizer.fit(X_train + X_dev + X_test)\n",
    "X_train = vectorizer.transform(X_train)\n",
    "X_dev = vectorizer.transform(X_dev)\n",
    "X_test = vectorizer.transform(X_test)\n",
    "X_final_train = vectorizer.transform(X_final_train)"
   ]
  },
  {
   "cell_type": "code",
   "execution_count": 48,
   "metadata": {},
   "outputs": [
    {
     "name": "stdout",
     "output_type": "stream",
     "text": [
      "Score: 0.9098 Current_Best: 0.9098 Left: 20 alpha: 0.0001 C: 1 test_score: 0.90572\n",
      "Score: 0.9101 Current_Best: 0.9101 Left: 19 alpha: 0.0006210526315789474 C: 1 test_score: 0.90628\n",
      "Score: 0.91 Current_Best: 0.9101 Left: 18 alpha: 0.0011421052631578948 C: 1 test_score: 0.90648\n",
      "Score: 0.9096 Current_Best: 0.9101 Left: 17 alpha: 0.0016631578947368423 C: 1 test_score: 0.90656\n",
      "Score: 0.9096 Current_Best: 0.9101 Left: 16 alpha: 0.0021842105263157894 C: 1 test_score: 0.9064\n",
      "Score: 0.9096 Current_Best: 0.9101 Left: 15 alpha: 0.0027052631578947366 C: 1 test_score: 0.9062\n",
      "Score: 0.9096 Current_Best: 0.9101 Left: 14 alpha: 0.0032263157894736843 C: 1 test_score: 0.9062\n",
      "Score: 0.9095 Current_Best: 0.9101 Left: 13 alpha: 0.0037473684210526316 C: 1 test_score: 0.90612\n",
      "Score: 0.9094 Current_Best: 0.9101 Left: 12 alpha: 0.004268421052631579 C: 1 test_score: 0.90616\n",
      "Score: 0.9094 Current_Best: 0.9101 Left: 11 alpha: 0.004789473684210527 C: 1 test_score: 0.90612\n",
      "Score: 0.9093 Current_Best: 0.9101 Left: 10 alpha: 0.005310526315789474 C: 1 test_score: 0.90608\n",
      "Score: 0.9092 Current_Best: 0.9101 Left: 9 alpha: 0.005831578947368421 C: 1 test_score: 0.90608\n",
      "Score: 0.9092 Current_Best: 0.9101 Left: 8 alpha: 0.006352631578947369 C: 1 test_score: 0.90604\n",
      "Score: 0.9093 Current_Best: 0.9101 Left: 7 alpha: 0.0068736842105263166 C: 1 test_score: 0.90608\n",
      "Score: 0.9091 Current_Best: 0.9101 Left: 6 alpha: 0.007394736842105264 C: 1 test_score: 0.90604\n",
      "Score: 0.9092 Current_Best: 0.9101 Left: 5 alpha: 0.00791578947368421 C: 1 test_score: 0.9062\n",
      "Score: 0.9092 Current_Best: 0.9101 Left: 4 alpha: 0.008436842105263158 C: 1 test_score: 0.90608\n",
      "Score: 0.9092 Current_Best: 0.9101 Left: 3 alpha: 0.008957894736842106 C: 1 test_score: 0.906\n",
      "Score: 0.9093 Current_Best: 0.9101 Left: 2 alpha: 0.009478947368421052 C: 1 test_score: 0.906\n",
      "Score: 0.9094 Current_Best: 0.9101 Left: 1 alpha: 0.01 C: 1 test_score: 0.906\n"
     ]
    }
   ],
   "source": [
    "#vectorizer = feature_extraction.text.TfidfVectorizer(ngram_range = (1,2), binary = True)\n",
    "C_list = [1]\n",
    "alpha_list = np.linspace(1e-4, 1e-2, 20)\n",
    "\n",
    "num_iterations = len(C_list) * len(alpha_list)\n",
    "best_score = 0\n",
    "best_C = 0\n",
    "best_alpha = 0\n",
    "\n",
    "valid_scores = []\n",
    "train_scores = []\n",
    "\n",
    "for C in C_list:\n",
    "    for alpha in alpha_list:\n",
    "        clf = NBSVM(C = C, alpha = alpha)\n",
    "        clf.fit(X_train, y_train)\n",
    "        y_pred = clf.predict(X_dev)\n",
    "        score = metrics.accuracy_score(y_dev, y_pred)\n",
    "        test_score = metrics.accuracy_score(y_test, clf.predict(X_test))\n",
    "        \n",
    "        valid_scores.append(score)\n",
    "        #train_scores.append(metrics.accuracy_score(y_train, clf.predict(X_train)))\n",
    "        \n",
    "        if (best_score < score):\n",
    "            best_score = score\n",
    "            best_C = C\n",
    "            best_alpha = alpha\n",
    "\n",
    "        print('Score: ' + str(score) + ' Current_Best: ' + str(best_score) + ' Left: ' + str(num_iterations) + ' alpha: '\n",
    "              + str(alpha) + ' C: ' + str(C) + ' test_score: ' + str(test_score))\n",
    "        num_iterations -= 1"
   ]
  },
  {
   "cell_type": "code",
   "execution_count": 56,
   "metadata": {},
   "outputs": [
    {
     "data": {
      "image/png": "[encoded data removed]",
      "text/plain": [
       "<Figure size 432x288 with 1 Axes>"
      ]
     },
     "metadata": {},
     "output_type": "display_data"
    }
   ],
   "source": [
    "#plt.plot(alpha_list, train_scores, 'r', label = 'train_accuracy')\n",
    "plt.plot(alpha_list, valid_scores, 'b', label = 'valid_accuracy')\n",
    "plt.ylabel('accuracy')\n",
    "plt.style.use('ggplot')\n",
    "plt.xlabel('Alpha')\n",
    "plt.title('Accuracy vs. Alpha - NBSVM Binary Bigram')\n",
    "plt.savefig('(IMDB) NBSVM Binary Bigram')"
   ]
  },
  {
   "cell_type": "code",
   "execution_count": 50,
   "metadata": {},
   "outputs": [
    {
     "data": {
      "text/plain": [
       "NBSVM(C=1, alpha=0.0006210526315789474, max_iter=10000)"
      ]
     },
     "execution_count": 50,
     "metadata": {},
     "output_type": "execute_result"
    }
   ],
   "source": [
    "clf = NBSVM(C =1, alpha = best_alpha)\n",
    "clf.fit(X_final_train, y_final_train)"
   ]
  },
  {
   "cell_type": "code",
   "execution_count": 51,
   "metadata": {},
   "outputs": [
    {
     "name": "stdout",
     "output_type": "stream",
     "text": [
      "0.90996\n"
     ]
    }
   ],
   "source": [
    "y_pred = clf.predict(X_test)\n",
    "print(metrics.accuracy_score(y_test, y_pred))"
   ]
  },
  {
   "cell_type": "code",
   "execution_count": 52,
   "metadata": {},
   "outputs": [
    {
     "name": "stdout",
     "output_type": "stream",
     "text": [
      "0.0006210526315789474\n"
     ]
    }
   ],
   "source": [
    "print(best_alpha)"
   ]
  },
  {
   "cell_type": "code",
   "execution_count": 83,
   "metadata": {},
   "outputs": [
    {
     "name": "stdout",
     "output_type": "stream",
     "text": [
      "Score: 0.8649 Current_Best: 0.8649 Left: 100 alpha: 1 C: 0.0001 test_score: 0.86256\n",
      "Score: 0.8712 Current_Best: 0.8712 Left: 99 alpha: 1 C: 0.0002 test_score: 0.87048\n",
      "Score: 0.8775 Current_Best: 0.8775 Left: 98 alpha: 1 C: 0.00030000000000000003 test_score: 0.8748\n",
      "Score: 0.8812 Current_Best: 0.8812 Left: 97 alpha: 1 C: 0.0004 test_score: 0.87892\n",
      "Score: 0.8832 Current_Best: 0.8832 Left: 96 alpha: 1 C: 0.0005 test_score: 0.88084\n",
      "Score: 0.885 Current_Best: 0.885 Left: 95 alpha: 1 C: 0.0006000000000000001 test_score: 0.88192\n",
      "Score: 0.8864 Current_Best: 0.8864 Left: 94 alpha: 1 C: 0.0007000000000000001 test_score: 0.88348\n",
      "Score: 0.8873 Current_Best: 0.8873 Left: 93 alpha: 1 C: 0.0008 test_score: 0.88388\n",
      "Score: 0.8886 Current_Best: 0.8886 Left: 92 alpha: 1 C: 0.0009000000000000001 test_score: 0.88396\n",
      "Score: 0.8899 Current_Best: 0.8899 Left: 91 alpha: 1 C: 0.001 test_score: 0.88444\n",
      "Score: 0.8907 Current_Best: 0.8907 Left: 90 alpha: 1 C: 0.0011 test_score: 0.88476\n",
      "Score: 0.8906 Current_Best: 0.8907 Left: 89 alpha: 1 C: 0.0012000000000000001 test_score: 0.88464\n",
      "Score: 0.8908 Current_Best: 0.8908 Left: 88 alpha: 1 C: 0.0013000000000000002 test_score: 0.88456\n",
      "Score: 0.8903 Current_Best: 0.8908 Left: 87 alpha: 1 C: 0.0014000000000000002 test_score: 0.8848\n",
      "Score: 0.8908 Current_Best: 0.8908 Left: 86 alpha: 1 C: 0.0015 test_score: 0.88484\n",
      "Score: 0.891 Current_Best: 0.891 Left: 85 alpha: 1 C: 0.0016 test_score: 0.88464\n",
      "Score: 0.8907 Current_Best: 0.891 Left: 84 alpha: 1 C: 0.0017000000000000001 test_score: 0.8848\n",
      "Score: 0.891 Current_Best: 0.891 Left: 83 alpha: 1 C: 0.0018000000000000002 test_score: 0.88476\n",
      "Score: 0.8911 Current_Best: 0.8911 Left: 82 alpha: 1 C: 0.0019000000000000002 test_score: 0.88452\n",
      "Score: 0.8914 Current_Best: 0.8914 Left: 81 alpha: 1 C: 0.002 test_score: 0.88416\n",
      "Score: 0.8916 Current_Best: 0.8916 Left: 80 alpha: 1 C: 0.0021 test_score: 0.88388\n",
      "Score: 0.8916 Current_Best: 0.8916 Left: 79 alpha: 1 C: 0.0022 test_score: 0.8836\n",
      "Score: 0.8915 Current_Best: 0.8916 Left: 78 alpha: 1 C: 0.0023 test_score: 0.88352\n",
      "Score: 0.8912 Current_Best: 0.8916 Left: 77 alpha: 1 C: 0.0024 test_score: 0.88328\n",
      "Score: 0.892 Current_Best: 0.892 Left: 76 alpha: 1 C: 0.0025 test_score: 0.88344\n",
      "Score: 0.8919 Current_Best: 0.892 Left: 75 alpha: 1 C: 0.0026 test_score: 0.88344\n",
      "Score: 0.8919 Current_Best: 0.892 Left: 74 alpha: 1 C: 0.0027 test_score: 0.88316\n",
      "Score: 0.8921 Current_Best: 0.8921 Left: 73 alpha: 1 C: 0.0028 test_score: 0.88288\n",
      "Score: 0.8919 Current_Best: 0.8921 Left: 72 alpha: 1 C: 0.0029 test_score: 0.88256\n",
      "Score: 0.8919 Current_Best: 0.8921 Left: 71 alpha: 1 C: 0.003 test_score: 0.88188\n",
      "Score: 0.8912 Current_Best: 0.8921 Left: 70 alpha: 1 C: 0.0031 test_score: 0.8814\n",
      "Score: 0.8909 Current_Best: 0.8921 Left: 69 alpha: 1 C: 0.0032 test_score: 0.8812\n",
      "Score: 0.8909 Current_Best: 0.8921 Left: 68 alpha: 1 C: 0.0033 test_score: 0.88056\n",
      "Score: 0.891 Current_Best: 0.8921 Left: 67 alpha: 1 C: 0.0034 test_score: 0.8802\n",
      "Score: 0.8907 Current_Best: 0.8921 Left: 66 alpha: 1 C: 0.0035 test_score: 0.87984\n",
      "Score: 0.8905 Current_Best: 0.8921 Left: 65 alpha: 1 C: 0.0036 test_score: 0.88\n",
      "Score: 0.8905 Current_Best: 0.8921 Left: 64 alpha: 1 C: 0.0037 test_score: 0.88008\n",
      "Score: 0.8906 Current_Best: 0.8921 Left: 63 alpha: 1 C: 0.0038 test_score: 0.88\n",
      "Score: 0.8904 Current_Best: 0.8921 Left: 62 alpha: 1 C: 0.0039 test_score: 0.87984\n",
      "Score: 0.8906 Current_Best: 0.8921 Left: 61 alpha: 1 C: 0.004 test_score: 0.8796\n",
      "Score: 0.8904 Current_Best: 0.8921 Left: 60 alpha: 1 C: 0.0041 test_score: 0.87936\n",
      "Score: 0.8902 Current_Best: 0.8921 Left: 59 alpha: 1 C: 0.004200000000000001 test_score: 0.87928\n",
      "Score: 0.8903 Current_Best: 0.8921 Left: 58 alpha: 1 C: 0.004300000000000001 test_score: 0.87904\n",
      "Score: 0.8902 Current_Best: 0.8921 Left: 57 alpha: 1 C: 0.0044 test_score: 0.87904\n",
      "Score: 0.89 Current_Best: 0.8921 Left: 56 alpha: 1 C: 0.0045000000000000005 test_score: 0.87892\n",
      "Score: 0.8904 Current_Best: 0.8921 Left: 55 alpha: 1 C: 0.004600000000000001 test_score: 0.8788\n",
      "Score: 0.8904 Current_Best: 0.8921 Left: 54 alpha: 1 C: 0.0047 test_score: 0.8788\n",
      "Score: 0.8905 Current_Best: 0.8921 Left: 53 alpha: 1 C: 0.0048000000000000004 test_score: 0.8788\n",
      "Score: 0.8902 Current_Best: 0.8921 Left: 52 alpha: 1 C: 0.004900000000000001 test_score: 0.87876\n",
      "Score: 0.8904 Current_Best: 0.8921 Left: 51 alpha: 1 C: 0.005 test_score: 0.87864\n",
      "Score: 0.8905 Current_Best: 0.8921 Left: 50 alpha: 1 C: 0.0051 test_score: 0.87872\n",
      "Score: 0.8906 Current_Best: 0.8921 Left: 49 alpha: 1 C: 0.005200000000000001 test_score: 0.87852\n",
      "Score: 0.8905 Current_Best: 0.8921 Left: 48 alpha: 1 C: 0.005300000000000001 test_score: 0.87848\n",
      "Score: 0.8909 Current_Best: 0.8921 Left: 47 alpha: 1 C: 0.0054 test_score: 0.87848\n",
      "Score: 0.8904 Current_Best: 0.8921 Left: 46 alpha: 1 C: 0.0055000000000000005 test_score: 0.87832\n",
      "Score: 0.8902 Current_Best: 0.8921 Left: 45 alpha: 1 C: 0.005600000000000001 test_score: 0.87812\n",
      "Score: 0.8902 Current_Best: 0.8921 Left: 44 alpha: 1 C: 0.0057 test_score: 0.87792\n",
      "Score: 0.8901 Current_Best: 0.8921 Left: 43 alpha: 1 C: 0.0058000000000000005 test_score: 0.8778\n",
      "Score: 0.8899 Current_Best: 0.8921 Left: 42 alpha: 1 C: 0.005900000000000001 test_score: 0.87764\n",
      "Score: 0.89 Current_Best: 0.8921 Left: 41 alpha: 1 C: 0.006 test_score: 0.8776\n",
      "Score: 0.8902 Current_Best: 0.8921 Left: 40 alpha: 1 C: 0.0061 test_score: 0.87748\n",
      "Score: 0.8899 Current_Best: 0.8921 Left: 39 alpha: 1 C: 0.006200000000000001 test_score: 0.87736\n",
      "Score: 0.8898 Current_Best: 0.8921 Left: 38 alpha: 1 C: 0.006300000000000001 test_score: 0.87748\n",
      "Score: 0.8897 Current_Best: 0.8921 Left: 37 alpha: 1 C: 0.0064 test_score: 0.87728\n",
      "Score: 0.8897 Current_Best: 0.8921 Left: 36 alpha: 1 C: 0.006500000000000001 test_score: 0.87712\n",
      "Score: 0.8898 Current_Best: 0.8921 Left: 35 alpha: 1 C: 0.006600000000000001 test_score: 0.877\n",
      "Score: 0.8897 Current_Best: 0.8921 Left: 34 alpha: 1 C: 0.0067 test_score: 0.8768\n",
      "Score: 0.8896 Current_Best: 0.8921 Left: 33 alpha: 1 C: 0.0068000000000000005 test_score: 0.87684\n",
      "Score: 0.8894 Current_Best: 0.8921 Left: 32 alpha: 1 C: 0.006900000000000001 test_score: 0.87684\n",
      "Score: 0.8892 Current_Best: 0.8921 Left: 31 alpha: 1 C: 0.007000000000000001 test_score: 0.87676\n",
      "Score: 0.8892 Current_Best: 0.8921 Left: 30 alpha: 1 C: 0.0071 test_score: 0.87668\n",
      "Score: 0.8888 Current_Best: 0.8921 Left: 29 alpha: 1 C: 0.007200000000000001 test_score: 0.8766\n",
      "Score: 0.8886 Current_Best: 0.8921 Left: 28 alpha: 1 C: 0.007300000000000001 test_score: 0.87656\n",
      "Score: 0.8885 Current_Best: 0.8921 Left: 27 alpha: 1 C: 0.0074 test_score: 0.8764\n",
      "Score: 0.8885 Current_Best: 0.8921 Left: 26 alpha: 1 C: 0.007500000000000001 test_score: 0.87612\n",
      "Score: 0.8885 Current_Best: 0.8921 Left: 25 alpha: 1 C: 0.007600000000000001 test_score: 0.876\n",
      "Score: 0.8884 Current_Best: 0.8921 Left: 24 alpha: 1 C: 0.0077 test_score: 0.87592\n",
      "Score: 0.8884 Current_Best: 0.8921 Left: 23 alpha: 1 C: 0.0078000000000000005 test_score: 0.87564\n",
      "Score: 0.8884 Current_Best: 0.8921 Left: 22 alpha: 1 C: 0.0079 test_score: 0.87548\n",
      "Score: 0.888 Current_Best: 0.8921 Left: 21 alpha: 1 C: 0.008 test_score: 0.87532\n",
      "Score: 0.8881 Current_Best: 0.8921 Left: 20 alpha: 1 C: 0.0081 test_score: 0.87512\n",
      "Score: 0.888 Current_Best: 0.8921 Left: 19 alpha: 1 C: 0.008199999999999999 test_score: 0.87504\n",
      "Score: 0.8881 Current_Best: 0.8921 Left: 18 alpha: 1 C: 0.0083 test_score: 0.87496\n",
      "Score: 0.888 Current_Best: 0.8921 Left: 17 alpha: 1 C: 0.0084 test_score: 0.87468\n",
      "Score: 0.888 Current_Best: 0.8921 Left: 16 alpha: 1 C: 0.0085 test_score: 0.87468\n",
      "Score: 0.888 Current_Best: 0.8921 Left: 15 alpha: 1 C: 0.0086 test_score: 0.8744\n",
      "Score: 0.8877 Current_Best: 0.8921 Left: 14 alpha: 1 C: 0.0087 test_score: 0.87408\n",
      "Score: 0.8877 Current_Best: 0.8921 Left: 13 alpha: 1 C: 0.0088 test_score: 0.87404\n",
      "Score: 0.8877 Current_Best: 0.8921 Left: 12 alpha: 1 C: 0.0089 test_score: 0.87396\n",
      "Score: 0.8879 Current_Best: 0.8921 Left: 11 alpha: 1 C: 0.009 test_score: 0.87392\n",
      "Score: 0.888 Current_Best: 0.8921 Left: 10 alpha: 1 C: 0.0091 test_score: 0.87388\n",
      "Score: 0.8881 Current_Best: 0.8921 Left: 9 alpha: 1 C: 0.0092 test_score: 0.87372\n",
      "Score: 0.888 Current_Best: 0.8921 Left: 8 alpha: 1 C: 0.0093 test_score: 0.87372\n",
      "Score: 0.8879 Current_Best: 0.8921 Left: 7 alpha: 1 C: 0.0094 test_score: 0.87352\n"
     ]
    },
    {
     "name": "stdout",
     "output_type": "stream",
     "text": [
      "Score: 0.8881 Current_Best: 0.8921 Left: 6 alpha: 1 C: 0.0095 test_score: 0.87348\n",
      "Score: 0.8882 Current_Best: 0.8921 Left: 5 alpha: 1 C: 0.0096 test_score: 0.87336\n",
      "Score: 0.8879 Current_Best: 0.8921 Left: 4 alpha: 1 C: 0.0097 test_score: 0.87332\n",
      "Score: 0.8879 Current_Best: 0.8921 Left: 3 alpha: 1 C: 0.0098 test_score: 0.87336\n",
      "Score: 0.8878 Current_Best: 0.8921 Left: 2 alpha: 1 C: 0.009899999999999999 test_score: 0.87312\n",
      "Score: 0.8877 Current_Best: 0.8921 Left: 1 alpha: 1 C: 0.01 test_score: 0.873\n"
     ]
    }
   ],
   "source": [
    "#vectorizer = feature_extraction.text.TfidfVectorizer(ngram_range = (1,1), binary = True)\n",
    "C_list = np.linspace(0.0001, 0.01, 100)\n",
    "alpha_list = [1]\n",
    "\n",
    "num_iterations = len(C_list) * len(alpha_list)\n",
    "best_score = 0\n",
    "best_C = 0\n",
    "best_alpha = 0\n",
    "\n",
    "valid_scores = []\n",
    "train_scores = []\n",
    "\n",
    "for C in C_list:\n",
    "    for alpha in alpha_list:\n",
    "        clf = NBSVM(C = C, alpha = alpha)\n",
    "        clf.fit(X_train, y_train)\n",
    "        y_pred = clf.predict(X_dev)\n",
    "        score = metrics.accuracy_score(y_dev, y_pred)\n",
    "        test_score = metrics.accuracy_score(y_test, clf.predict(X_test))\n",
    "        \n",
    "        valid_scores.append(score)\n",
    "        train_scores.append(metrics.accuracy_score(y_train, clf.predict(X_train)))\n",
    "        \n",
    "        if (best_score < score):\n",
    "            best_score = score\n",
    "            best_C = C\n",
    "            best_alpha = alpha\n",
    "\n",
    "        print('Score: ' + str(score) + ' Current_Best: ' + str(best_score) + ' Left: ' + str(num_iterations) + ' alpha: '\n",
    "              + str(alpha) + ' C: ' + str(C) + ' test_score: ' + str(test_score))\n",
    "        num_iterations -= 1"
   ]
  },
  {
   "cell_type": "code",
   "execution_count": 84,
   "metadata": {},
   "outputs": [
    {
     "name": "stdout",
     "output_type": "stream",
     "text": [
      "0.88564\n"
     ]
    }
   ],
   "source": [
    "clf = NBSVM(C =best_C, alpha = best_alpha)\n",
    "clf.fit(X_final_train, y_final_train)\n",
    "y_pred = clf.predict(X_test)\n",
    "print(metrics.accuracy_score(y_test, y_pred))"
   ]
  },
  {
   "cell_type": "code",
   "execution_count": 86,
   "metadata": {},
   "outputs": [
    {
     "data": {
      "image/png": "[encoded data removed]",
      "text/plain": [
       "<Figure size 432x288 with 1 Axes>"
      ]
     },
     "metadata": {},
     "output_type": "display_data"
    }
   ],
   "source": [
    "plt.plot(C_list, train_scores, 'r', label = 'train_accuracy')\n",
    "plt.plot(C_list, valid_scores, 'b', label = 'valid_accuracy')\n",
    "plt.ylabel('accuracy')\n",
    "plt.style.use('ggplot')\n",
    "plt.xlabel('C')\n",
    "plt.title('Accuracy vs. C - NBSVM Binary Unigram')\n",
    "plt.legend(loc='lower right')\n",
    "plt.savefig('(IMDB) NBSVM Binary Unigram')"
   ]
  },
  {
   "cell_type": "code",
   "execution_count": null,
   "metadata": {},
   "outputs": [],
   "source": []
  }
 ],
 "metadata": {
  "kernelspec": {
   "display_name": "Python 3",
   "language": "python",
   "name": "python3"
  },
  "language_info": {
   "codemirror_mode": {
    "name": "ipython",
    "version": 3
   },
   "file_extension": ".py",
   "mimetype": "text/x-python",
   "name": "python",
   "nbconvert_exporter": "python",
   "pygments_lexer": "ipython3",
   "version": "3.6.7"
  }
 },
 "nbformat": 4,
 "nbformat_minor": 2
}
